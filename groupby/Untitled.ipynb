{
 "cells": [
  {
   "cell_type": "code",
   "execution_count": null,
   "id": "f73d4d76-c2fd-4d95-8f5e-04ebd26f3643",
   "metadata": {},
   "outputs": [],
   "source": []
  }
 ],
 "metadata": {
  "kernelspec": {
   "display_name": "",
   "name": ""
  },
  "language_info": {
   "name": ""
  }
 },
 "nbformat": 4,
 "nbformat_minor": 5
}
