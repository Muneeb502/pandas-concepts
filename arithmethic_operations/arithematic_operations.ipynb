{
 "cells": [
  {
   "cell_type": "code",
   "execution_count": null,
   "id": "6a0ec757-394c-4949-8945-909fa55ecdf8",
   "metadata": {},
   "outputs": [],
   "source": []
  }
 ],
 "metadata": {
  "kernelspec": {
   "display_name": "",
   "name": ""
  },
  "language_info": {
   "name": ""
  }
 },
 "nbformat": 4,
 "nbformat_minor": 5
}
