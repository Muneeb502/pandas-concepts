{
 "cells": [
  {
   "cell_type": "code",
   "execution_count": null,
   "id": "bbd4f238-d326-4ea7-aa00-e53d1f4a5c15",
   "metadata": {},
   "outputs": [],
   "source": []
  }
 ],
 "metadata": {
  "kernelspec": {
   "display_name": "",
   "name": ""
  },
  "language_info": {
   "name": ""
  }
 },
 "nbformat": 4,
 "nbformat_minor": 5
}
