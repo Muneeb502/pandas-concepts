{
 "cells": [
  {
   "cell_type": "markdown",
   "id": "f376d409-40c3-4f9d-bdad-defb8a1b7628",
   "metadata": {},
   "source": [
    "# Deleting an dinserting data in dataframe"
   ]
  },
  {
   "cell_type": "code",
   "execution_count": 1,
   "id": "57b20e06-d98d-41d2-b557-c8ba5d54ffba",
   "metadata": {},
   "outputs": [],
   "source": [
    "import pandas as pd\n"
   ]
  },
  {
   "cell_type": "code",
   "execution_count": null,
   "id": "7b77c618-5b25-43b0-a0af-63a56000b157",
   "metadata": {},
   "outputs": [],
   "source": []
  }
 ],
 "metadata": {
  "kernelspec": {
   "display_name": "Python 3 (ipykernel)",
   "language": "python",
   "name": "python3"
  },
  "language_info": {
   "codemirror_mode": {
    "name": "ipython",
    "version": 3
   },
   "file_extension": ".py",
   "mimetype": "text/x-python",
   "name": "python",
   "nbconvert_exporter": "python",
   "pygments_lexer": "ipython3",
   "version": "3.12.4"
  }
 },
 "nbformat": 4,
 "nbformat_minor": 5
}
